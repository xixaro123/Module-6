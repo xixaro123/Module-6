{
 "cells": [
  {
   "cell_type": "markdown",
   "id": "15f070a4-6190-4bcc-80f8-e53c111ae92e",
   "metadata": {},
   "source": [
    "# Data Science Tools and Ecosystem"
   ]
  },
  {
   "attachments": {},
   "cell_type": "markdown",
   "id": "7b86fdb1-96a0-421f-9cc7-91fb55cba0c1",
   "metadata": {},
   "source": [
    "In this notebook, Data Science Tools and Ecosystem are summarized."
   ]
  },
  {
   "cell_type": "markdown",
   "id": "912d1792-2cc9-403b-b4f8-4e5aac56c7c5",
   "metadata": {},
   "source": [
    "**Objectives:**\n",
    "in this data science notebook we are listing\n",
    "- popular languages\n",
    "- commonly used libraries\n",
    "- frequent tools used\n",
    "- and, give some examples of Python code execution"
   ]
  },
  {
   "cell_type": "markdown",
   "id": "92771619-1cc6-4cde-9208-b831a9407b7d",
   "metadata": {},
   "source": [
    "Some of the popular languages that Data Scientists use are:\n",
    "\n",
    "1. pyhton\n",
    "2. R\n",
    "3. Julia\n",
    "4. C++\n",
    "5. SQL\n",
    "6. Java\n",
    "7. Scala\n",
    "8. MatLab\n",
    "9. SaS\n",
    "10. ..."
   ]
  },
  {
   "cell_type": "markdown",
   "id": "dae66ecb-68c0-4c07-b6c8-8024bfcb72bd",
   "metadata": {},
   "source": [
    "Some of the commonly used libraries used by Data Scientists include:\n",
    "\n",
    "1. Pandas\n",
    "2. NumPy\n",
    "3. Matplotlib\n",
    "4. Seaborn\n",
    "5. scikit-learn\n",
    "6. TensorFlow\n",
    "7. Keras\n",
    "8. ..."
   ]
  },
  {
   "cell_type": "markdown",
   "id": "ab8cc4a7-dc89-44f5-83e1-98e8793967c1",
   "metadata": {},
   "source": [
    "Table of data science tools:\n",
    "\n",
    "|Data Science Tools|\n",
    "|-------------------|\n",
    "|Jupyter Notebook|\n",
    "|RStudio|\n",
    "|Apache Spark|\n",
    "|Tableau|\n",
    "|Power BI|\n",
    "|Google Colab|\n",
    "|Anaconda|\n",
    "|...|"
   ]
  },
  {
   "cell_type": "markdown",
   "id": "bb564a21-1a4a-43a0-bfa0-bafba796e731",
   "metadata": {},
   "source": [
    "### Below are a few examples of evaluating arithmetic expressions in Python"
   ]
  },
  {
   "cell_type": "code",
   "execution_count": 32,
   "id": "bf7a6234-70b2-4734-887b-ca5ee28bd144",
   "metadata": {},
   "outputs": [
    {
     "data": {
      "text/plain": [
       "17"
      ]
     },
     "execution_count": 32,
     "metadata": {},
     "output_type": "execute_result"
    }
   ],
   "source": [
    "(3*4)+5 #This a simple arithmetic expression to mutiply then add integers"
   ]
  },
  {
   "cell_type": "code",
   "execution_count": 44,
   "id": "f5dfcb38-28dd-49f1-b9bd-c42ceac7875a",
   "metadata": {},
   "outputs": [
    {
     "name": "stdout",
     "output_type": "stream",
     "text": [
      "200 minutes is equal to 3.3 hours.\n"
     ]
    }
   ],
   "source": [
    "# converting minutes to hours\n",
    "minutes = 200\n",
    "\n",
    "hours = minutes / 60\n",
    "\n",
    "# round hours \n",
    "hours = round(hours, 1)\n",
    "\n",
    "# Print the result\n",
    "print(f\"{minutes} minutes is equal to {hours} hours.\")"
   ]
  },
  {
   "cell_type": "markdown",
   "id": "20fb5e8e-075b-4add-8dbc-9783518c1ca2",
   "metadata": {},
   "source": [
    "## Author\n",
    "xixaro"
   ]
  }
 ],
 "metadata": {
  "kernelspec": {
   "display_name": "Python [conda env:MYY]",
   "language": "python",
   "name": "conda-env-MYY-py"
  },
  "language_info": {
   "codemirror_mode": {
    "name": "ipython",
    "version": 3
   },
   "file_extension": ".py",
   "mimetype": "text/x-python",
   "name": "python",
   "nbconvert_exporter": "python",
   "pygments_lexer": "ipython3",
   "version": "3.12.9"
  }
 },
 "nbformat": 4,
 "nbformat_minor": 5
}
